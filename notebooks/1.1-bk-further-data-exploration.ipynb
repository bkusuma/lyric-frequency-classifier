{
 "cells": [
  {
   "cell_type": "code",
   "execution_count": null,
   "id": "9056219c",
   "metadata": {},
   "outputs": [],
   "source": [
    "import pandas as pd\n",
    "\n",
    "pd.set_option(\"display.max_columns\", 200)\n",
    "\n",
    "import numpy as np\n",
    "\n",
    "import matplotlib.pyplot as plt\n",
    "\n",
    "import seaborn as sns\n",
    "\n",
    "from sklearn.preprocessing import StandardScaler, OneHotEncoder\n",
    "from sklearn.impute import SimpleImputer\n",
    "from sklearn.compose import ColumnTransformer\n",
    "from sklearn.pipeline import make_pipeline\n",
    "\n",
    "from sklearn import set_config\n",
    "\n",
    "set_config(transform_output=\"pandas\")\n",
    "\n",
    "from category_encoders import HashingEncoder\n",
    "\n",
    "\n",
    "freq_imputer = SimpleImputer(strategy=\"most_frequent\")\n",
    "zero_imputer = SimpleImputer(strategy=\"constant\", fill_value=0)\n",
    "scaler = StandardScaler()\n",
    "ohe = OneHotEncoder(\n",
    "    handle_unknown=\"infrequent_if_exist\", sparse_output=False, drop=\"if_binary\"\n",
    ")\n",
    "\n",
    "hash = HashingEncoder(n_components=10, return_df=True, drop_invariant=True)\n",
    "\n",
    "from sklearn.feature_extraction.text import CountVectorizer\n",
    "from sklearn.pipeline import Pipeline\n",
    "from sklearn.compose import ColumnTransformer\n",
    "# from sklearn.base import TransformerMixin, BaseEstimator\n",
    "from sklearn.model_selection import train_test_split\n",
    "from sklearn.preprocessing import MinMaxScaler, MaxAbsScaler\n",
    "from sklearn.metrics import accuracy_score, precision_score, recall_score, f1_score, classification_report, ConfusionMatrixDisplay\n",
    "\n",
    "\n",
    "import sys\n",
    "sys.path.insert(0, \"../src\")\n",
    "from eval_classification import eval_classification\n",
    "del sys.path[0]\n",
    "df = pd.read_parquet(\"../data/processed/merged_data.parquet\")\n",
    "df"
   ]
  }
 ],
 "metadata": {
  "language_info": {
   "name": "python"
  }
 },
 "nbformat": 4,
 "nbformat_minor": 5
}
